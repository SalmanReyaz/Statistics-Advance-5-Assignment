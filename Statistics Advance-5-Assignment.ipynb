{
 "cells": [
  {
   "cell_type": "markdown",
   "id": "0c37008f",
   "metadata": {},
   "source": [
    "# Q1. Calculate the 95% confidence interval for a sample of data with a mean of 50 and a standard deviation of 5 using Python. Interpret the results."
   ]
  },
  {
   "cell_type": "raw",
   "id": "957cdd8a",
   "metadata": {},
   "source": [
    "To calculate the 95% confidence interval for a sample of data with a mean of 50 and a standard deviation of 5 in Python"
   ]
  },
  {
   "cell_type": "code",
   "execution_count": 23,
   "id": "515bd426",
   "metadata": {},
   "outputs": [
    {
     "name": "stdout",
     "output_type": "stream",
     "text": [
      "95.0% Confidence Interval: (48.2108, 51.7892)\n"
     ]
    }
   ],
   "source": [
    "import scipy.stats as stats\n",
    "\n",
    "#sample data\n",
    "sample_mean = 50\n",
    "sample_std_deviation= 5\n",
    "confidence_level = 0.95\n",
    "\n",
    "\n",
    "# Calculate the standard error\n",
    "standard_error = sample_std_deviation / (30 ** 0.5)\n",
    "\n",
    "# Calculate the margin of error\n",
    "margin_of_error = stats.norm.ppf((1 + confidence_level) / 2) * standard_error\n",
    "\n",
    "# Calculate the confidence interval\n",
    "lower_bound = sample_mean - margin_of_error\n",
    "upper_bound = sample_mean + margin_of_error\n",
    "\n",
    "# Print the confidence interval\n",
    "print(f\"{confidence_level*100}% Confidence Interval: ({lower_bound:.4f}, {upper_bound:.4f})\")\n"
   ]
  },
  {
   "cell_type": "raw",
   "id": "29fb953d",
   "metadata": {},
   "source": [
    "The 95% confidence interval for the true population mean, based on your sample data, is the range of values from the lower bound to the upper bound. In this case, it would be a range of values within which we are 95% confident that the true population mean lies."
   ]
  },
  {
   "cell_type": "code",
   "execution_count": null,
   "id": "f867df64",
   "metadata": {},
   "outputs": [],
   "source": []
  },
  {
   "cell_type": "markdown",
   "id": "a8dce1b2",
   "metadata": {},
   "source": [
    "# Q2. Conduct a chi-square goodness of fit test to determine if the distribution of colors of M&Ms in a bag matches the expected distribution of 20% blue, 20% orange, 20% green, 10% yellow, 10% red, and 20% brown. Use Python to perform the test with a significance level of 0.05."
   ]
  },
  {
   "cell_type": "code",
   "execution_count": 92,
   "id": "b2298f54",
   "metadata": {},
   "outputs": [],
   "source": [
    "import scipy.stats as stat\n",
    "import numpy as np\n",
    "\n",
    "observed_counts = [18, 22, 19, 9, 11, 21]\n",
    "expected_counts = [20,20,20,10,10,20]"
   ]
  },
  {
   "cell_type": "code",
   "execution_count": 93,
   "id": "e04d2a37",
   "metadata": {},
   "outputs": [
    {
     "data": {
      "text/plain": [
       "(100, 100)"
      ]
     },
     "execution_count": 93,
     "metadata": {},
     "output_type": "execute_result"
    }
   ],
   "source": [
    "sum(expected_counts),sum(observed_counts)"
   ]
  },
  {
   "cell_type": "code",
   "execution_count": 94,
   "id": "d27ddf6b",
   "metadata": {},
   "outputs": [],
   "source": [
    "chisquare_test_statistics, p_value = stat.chisquare(observed_counts,expected_counts)"
   ]
  },
  {
   "cell_type": "code",
   "execution_count": 95,
   "id": "0e27926b",
   "metadata": {
    "scrolled": true
   },
   "outputs": [
    {
     "data": {
      "text/plain": [
       "(0.7000000000000001, 0.9829686751880324)"
      ]
     },
     "execution_count": 95,
     "metadata": {},
     "output_type": "execute_result"
    }
   ],
   "source": [
    "chisquare_test_statistics,p_value"
   ]
  },
  {
   "cell_type": "code",
   "execution_count": 96,
   "id": "728cf604",
   "metadata": {},
   "outputs": [],
   "source": [
    "significance_value = 0.05\n",
    "# dof= len(expected_counts)\n",
    "# print(dof)\n",
    "critical_value = stat.chi2.ppf(1-significance_value,dof)"
   ]
  },
  {
   "cell_type": "code",
   "execution_count": 97,
   "id": "5ac32a69",
   "metadata": {},
   "outputs": [
    {
     "data": {
      "text/plain": [
       "12.591587243743977"
      ]
     },
     "execution_count": 97,
     "metadata": {},
     "output_type": "execute_result"
    }
   ],
   "source": [
    "critical_value"
   ]
  },
  {
   "cell_type": "code",
   "execution_count": 98,
   "id": "4f77b20e",
   "metadata": {},
   "outputs": [
    {
     "name": "stdout",
     "output_type": "stream",
     "text": [
      "Accept the null hypothesis\n"
     ]
    }
   ],
   "source": [
    "if chisquare_test_statistics > critical_value:\n",
    "    print(\"Reject the null hypothesis\")\n",
    "else:\n",
    "    print(\"Accept the null hypothesis\")"
   ]
  },
  {
   "cell_type": "markdown",
   "id": "8f16fca8",
   "metadata": {},
   "source": [
    "# Q3. Use Python to calculate the chi-square statistic and p-value for a contingency table with the following data:"
   ]
  },
  {
   "attachments": {
    "image.png": {
     "image/png": "[encoded data removed]"
    }
   },
   "cell_type": "markdown",
   "id": "954b867a",
   "metadata": {},
   "source": [
    "![image.png](attachment:image.png)"
   ]
  },
  {
   "cell_type": "code",
   "execution_count": 99,
   "id": "b3ca382a",
   "metadata": {},
   "outputs": [],
   "source": [
    "import scipy.stats as stat\n",
    "import numpy as np"
   ]
  },
  {
   "cell_type": "code",
   "execution_count": 127,
   "id": "fe09a0c8",
   "metadata": {},
   "outputs": [
    {
     "name": "stdout",
     "output_type": "stream",
     "text": [
      "Chi-Square Statistic: 0.0\n",
      "P-value: 1.0\n"
     ]
    }
   ],
   "source": [
    "contingency_table = [[[20,15,\n",
    "                     10,25,\n",
    "                     15,20]]]\n",
    "\n",
    "\n",
    "\n",
    "chi2, p,_, _  = stat.chi2_contingency(contingency_table)\n",
    "# chi2, p, expected, _ = stats.chi2_contingency(contingency_table)\n",
    "\n",
    "# Print the results\n",
    "print(\"Chi-Square Statistic:\", chi2)\n",
    "print(\"P-value:\", p)"
   ]
  },
  {
   "cell_type": "code",
   "execution_count": null,
   "id": "90fbdcfd",
   "metadata": {},
   "outputs": [],
   "source": []
  },
  {
   "cell_type": "markdown",
   "id": "3f65ff2b",
   "metadata": {},
   "source": [
    "# Q4. A study of the prevalence of smoking in a population of 500 individuals found that 60 individuals smoked. Use Python to calculate the 95% confidence interval for the true proportion of individuals in the population who smoke."
   ]
  },
  {
   "cell_type": "code",
   "execution_count": 130,
   "id": "762ad27f",
   "metadata": {},
   "outputs": [
    {
     "name": "stdout",
     "output_type": "stream",
     "text": [
      "Sample proportion (p): 0.12\n",
      "Standard Error: 0.014532721699667961\n",
      "Critical Value (Z): 1.959963984540054\n",
      "Margin of Error: 0.028483611128692923\n",
      "95% Confidence Interval: (0.09151638887130707, 0.1484836111286929)\n"
     ]
    }
   ],
   "source": [
    "#To calculate the 95% confidence interval for the true proportion of individuals in the population who smoke, \n",
    "\n",
    "import scipy.stats as stats\n",
    "import math\n",
    "\n",
    "# Sample size\n",
    "n = 500\n",
    "\n",
    "# Number of individuals who smoke\n",
    "x = 60\n",
    "\n",
    "# Proportion of individuals who smoke in the sample\n",
    "p = x / n\n",
    "\n",
    "# Significance level (alpha)\n",
    "alpha = 0.05\n",
    "\n",
    "# Calculate the standard error\n",
    "standard_error = math.sqrt((p * (1 - p)) / n)\n",
    "\n",
    "# Calculate the critical value (Z) for a 95% confidence interval\n",
    "z_critical = stats.norm.ppf(1 - alpha / 2)\n",
    "\n",
    "# Calculate the margin of error\n",
    "margin_of_error = z_critical * standard_error\n",
    "\n",
    "# Calculate the confidence interval\n",
    "confidence_interval = (p - margin_of_error, p + margin_of_error)\n",
    "\n",
    "# Print the results\n",
    "print(\"Sample proportion (p):\", p)\n",
    "print(\"Standard Error:\", standard_error)\n",
    "print(\"Critical Value (Z):\", z_critical)\n",
    "print(\"Margin of Error:\", margin_of_error)\n",
    "print(\"95% Confidence Interval:\", confidence_interval)\n"
   ]
  },
  {
   "cell_type": "code",
   "execution_count": null,
   "id": "4c7b6a5f",
   "metadata": {},
   "outputs": [],
   "source": []
  },
  {
   "cell_type": "markdown",
   "id": "adb9ca01",
   "metadata": {},
   "source": [
    "# Q5. Calculate the 90% confidence interval for a sample of data with a mean of 75 and a standard deviation of 12 using Python. Interpret the results."
   ]
  },
  {
   "cell_type": "code",
   "execution_count": 1,
   "id": "42bd8efb",
   "metadata": {},
   "outputs": [
    {
     "name": "stdout",
     "output_type": "stream",
     "text": [
      "90% Confidence Interval: (55.26, 94.74)\n"
     ]
    }
   ],
   "source": [
    "import scipy.stats as stats\n",
    "\n",
    "# Sample statistics\n",
    "sample_mean = 75\n",
    "sample_std_dev = 12\n",
    "\n",
    "# Confidence level (90%)\n",
    "confidence_level = 0.90\n",
    "\n",
    "# Sample size (you would need this information, but it's not provided)\n",
    "# If you have the sample size (n), you can calculate the standard error as sample_std_dev / sqrt(n)\n",
    "# Then, you can use the t-distribution instead of the normal distribution for small sample sizes.\n",
    "\n",
    "# Calculate the margin of error using the standard error (SE)\n",
    "# For a normal distribution, you can use the Z-score for the given confidence level.\n",
    "z_score = stats.norm.ppf(1 - (1 - confidence_level) / 2)\n",
    "\n",
    "# Calculate the margin of error\n",
    "margin_of_error = z_score * (sample_std_dev)\n",
    "\n",
    "# Calculate the lower and upper bounds of the confidence interval\n",
    "confidence_interval_lower = sample_mean - margin_of_error\n",
    "confidence_interval_upper = sample_mean + margin_of_error\n",
    "\n",
    "print(f\"90% Confidence Interval: ({confidence_interval_lower:.2f}, {confidence_interval_upper:.2f})\")\n"
   ]
  },
  {
   "cell_type": "raw",
   "id": "4825f980",
   "metadata": {},
   "source": [
    "The 90% confidence interval for the population mean, based on the sample data with a mean of 75 and a standard deviation of 12, is approximately (55.26, 94.74). This means that we are 90% confident that the true population mean falls within this range.\n",
    "if you were to take many random samples and calculate 90% confidence intervals for each of them, you would expect approximately 90% of those intervals to contain the true population mean."
   ]
  },
  {
   "cell_type": "code",
   "execution_count": null,
   "id": "e837167f",
   "metadata": {},
   "outputs": [],
   "source": []
  },
  {
   "cell_type": "markdown",
   "id": "6b757da7",
   "metadata": {},
   "source": [
    "# Q6. Use Python to plot the chi-square distribution with 10 degrees of freedom. Label the axes and shade the area corresponding to a chi-square statistic of 15."
   ]
  },
  {
   "cell_type": "code",
   "execution_count": 25,
   "id": "01cb5540",
   "metadata": {},
   "outputs": [
    {
     "data": {
      "image/png": "[encoded data removed]",
      "text/plain": [
       "<Figure size 640x480 with 1 Axes>"
      ]
     },
     "metadata": {},
     "output_type": "display_data"
    }
   ],
   "source": [
    "import numpy as np\n",
    "import matplotlib.pyplot as plt\n",
    "import scipy.stats as stats\n",
    "\n",
    "# Degrees of freedom\n",
    "df = 10\n",
    "\n",
    "# Create a range of x values\n",
    "x = np.linspace(0, 30, 1000)\n",
    "\n",
    "# Calculate the chi-square probability density function (PDF)\n",
    "chi_squared_pdf = stats.chi2.pdf(x, df)\n",
    "\n",
    "# Create the plot\n",
    "plt.plot(x, chi_squared_pdf, label=f'Chi-Square PDF (df={df})', color='blue')\n",
    "\n",
    "# Shade the area corresponding to a chi-square statistic of 15\n",
    "x_shade = np.linspace(0, 15, 1000)\n",
    "y_shade = stats.chi2.pdf(x_shade, df)\n",
    "plt.fill_between(x_shade, y_shade, color='gray', alpha=0.5, label='Chi-Square < 15')\n",
    "\n",
    "# Label the axes and add a legend\n",
    "plt.xlabel('Chi-Square Value')\n",
    "plt.ylabel('Probability Density')\n",
    "plt.legend()\n",
    "\n",
    "# Show the plot\n",
    "plt.title('Chi-Square Distribution with Shaded Area')\n",
    "plt.grid(True)\n",
    "plt.show()\n"
   ]
  },
  {
   "cell_type": "raw",
   "id": "2fe8c4d4",
   "metadata": {},
   "source": [
    "The shaded area under the curve represents the probability of obtaining a chi-square statistic less than 15. In other words, it shows the probability that a random chi-square statistic with 10 degrees of freedom is less than 15. This shaded area corresponds to the cumulative probability up to 15 on the chi-square distribution........."
   ]
  },
  {
   "cell_type": "code",
   "execution_count": null,
   "id": "6a003c80",
   "metadata": {},
   "outputs": [],
   "source": []
  },
  {
   "cell_type": "markdown",
   "id": "46049d0c",
   "metadata": {},
   "source": [
    "# Q7. A random sample of 1000 people was asked if they preferred Coke or Pepsi. Of the sample, 520 preferred Coke. Calculate a 99% confidence interval for the true proportion of people in the population who prefer Coke."
   ]
  },
  {
   "cell_type": "raw",
   "id": "183e02d1",
   "metadata": {},
   "source": [
    "To calculate a 99% confidence interval for the true proportion of people in the population who prefer Coke, we can use the formula for the confidence interval of a proportion..."
   ]
  },
  {
   "cell_type": "code",
   "execution_count": 26,
   "id": "ebf3bf87",
   "metadata": {},
   "outputs": [
    {
     "name": "stdout",
     "output_type": "stream",
     "text": [
      "99% Confidence Interval: (0.4793, 0.5607)\n"
     ]
    }
   ],
   "source": [
    "import math\n",
    "\n",
    "# Sample proportion\n",
    "sample_proportion = 520 / 1000  \n",
    "\n",
    "# Confidence level (99%)\n",
    "confidence_level = 0.99\n",
    "\n",
    "# Sample size\n",
    "n = 1000\n",
    "\n",
    "# Calculate the Z-score for the desired confidence level\n",
    "z_score = stats.norm.ppf(1 - (1 - confidence_level) / 2)\n",
    "\n",
    "# Calculate the standard error\n",
    "standard_error = math.sqrt((sample_proportion * (1 - sample_proportion)) / n)\n",
    "\n",
    "# Calculate the margin of error\n",
    "margin_of_error = z_score * standard_error\n",
    "\n",
    "# Calculate the lower and upper bounds of the confidence interval\n",
    "confidence_interval_lower = sample_proportion - margin_of_error\n",
    "confidence_interval_upper = sample_proportion + margin_of_error\n",
    "\n",
    "print(f\"99% Confidence Interval: ({confidence_interval_lower:.4f}, {confidence_interval_upper:.4f})\")\n"
   ]
  },
  {
   "cell_type": "raw",
   "id": "9e313457",
   "metadata": {},
   "source": [
    "The 99% confidence interval for the true proportion of people in the population who prefer Coke is approximately (0.4793, 0.5607). This means that we can be 99% confident that the true proportion falls within this range based on the sample data."
   ]
  },
  {
   "cell_type": "code",
   "execution_count": null,
   "id": "0e4b32c2",
   "metadata": {},
   "outputs": [],
   "source": []
  },
  {
   "cell_type": "raw",
   "id": "7838e651",
   "metadata": {},
   "source": [
    "Q8. A researcher hypothesizes that a coin is biased towards tails. They flip the coin 100 times and observe\n",
    "45 tails. Conduct a chi-square goodness of fit test to determine if the observed frequencies match the\n",
    "expected frequencies of a fair coin. Use a significance level of 0.05."
   ]
  },
  {
   "cell_type": "raw",
   "id": "a09744be",
   "metadata": {},
   "source": [
    "step 1:-Define your hypotheses:\n",
    "\n",
    "Null Hypothesis (H0): The coin is fair, and the observed frequencies match the expected frequencies of a fair coin.\n",
    "\n",
    "Alternative Hypothesis (H1): The coin is biased towards tails, and the observed frequencies do not match the expected frequencies of a fair coin.\n",
    "\n",
    "step2:- Set the significance level (α) to 0.05, which indicates a 95% confidence level.\n",
    "\n",
    "step3:- Calculate the expected frequencies for the two outcomes (heads and tails) based on a fair coin. For a fair coin, the expected frequency for each outcome is 50 for 100 coin flips.\n",
    "\n",
    "step4:- Calculate the chi-square statistic using the formula:\n",
    "\n",
    "step5:-- Determine the degrees of freedom (df), which is the number of categories (outcomes) minus 1. In this case df=2−1=1.\n",
    "\n",
    "step6:--- Find the critical chi-square value from a chi-square distribution table or calculator for a significance level of 0.05 and df=1.\n",
    "\n",
    "\n",
    "Compare the calculated chi-square statistic to the critical chi-square value:\n",
    "\n",
    "If X2> Critical X2, reject the null hypothesis.\n",
    "If X2<equal to Critical X2,fail the reject the null hypothesis."
   ]
  },
  {
   "cell_type": "code",
   "execution_count": 33,
   "id": "00c8ca37",
   "metadata": {},
   "outputs": [
    {
     "name": "stdout",
     "output_type": "stream",
     "text": [
      "chi_squared: 1.0\n",
      "critical_chi_squared: 3.841458820694124\n",
      "Fail to reject the null hypothesis: There is no evidence that the coin is biased towards tails.\n"
     ]
    }
   ],
   "source": [
    "import scipy.stats as stats\n",
    "\n",
    "# Observed frequencies\n",
    "observed_tails = 45\n",
    "observed_heads = 100 - observed_tails\n",
    "\n",
    "# Expected frequencies (fair coin)\n",
    "expected_tails = 50\n",
    "expected_heads = 50\n",
    "\n",
    "# Calculate the chi-square statistic\n",
    "chi_squared = ((observed_tails - expected_tails)**2 / expected_tails) + ((observed_heads - expected_heads)**2 / expected_heads)\n",
    "\n",
    "# Degrees of freedom\n",
    "df = 1\n",
    "\n",
    "# Significance level\n",
    "alpha = 0.05\n",
    "\n",
    "# Find the critical chi-square value\n",
    "critical_chi_squared = stats.chi2.ppf(1 - alpha, df)\n",
    "\n",
    "print(\"chi_squared:\",chi_squared)\n",
    "print(\"critical_chi_squared:\",critical_chi_squared)\n",
    "\n",
    "\n",
    "# Compare the calculated chi-square statistic to the critical chi-square value\n",
    "if chi_squared > critical_chi_squared:\n",
    "    print(\"Reject the null hypothesis: The coin is biased towards tails.\")\n",
    "else:\n",
    "    print(\"Fail to reject the null hypothesis: There is no evidence that the coin is biased towards tails.\")\n"
   ]
  },
  {
   "cell_type": "code",
   "execution_count": null,
   "id": "3c58c932",
   "metadata": {},
   "outputs": [],
   "source": []
  },
  {
   "cell_type": "markdown",
   "id": "0bf33011",
   "metadata": {},
   "source": [
    "## Q9. A study was conducted to determine if there is an association between smoking status (smoker or non-smoker) and lung cancer diagnosis (yes or no). The results are shown in the contingency table below. Conduct a chi-square test for independence to determine if there is a significant association between smoking status and lung cancer diagnosis."
   ]
  },
  {
   "attachments": {
    "image.png": {
     "image/png": "[encoded data removed]"
    }
   },
   "cell_type": "markdown",
   "id": "541dc3ad",
   "metadata": {},
   "source": [
    "![image.png](attachment:image.png)"
   ]
  },
  {
   "cell_type": "code",
   "execution_count": null,
   "id": "60168099",
   "metadata": {},
   "outputs": [],
   "source": [
    "Null Hypothesis (H0): Smoking status and lung cancer diagnosis are independent (there is no association).\n",
    "Alternative Hypothesis (H1): Smoking status and lung cancer diagnosis are not independent (there is an association)"
   ]
  },
  {
   "cell_type": "code",
   "execution_count": 47,
   "id": "dde18c2c",
   "metadata": {},
   "outputs": [
    {
     "name": "stdout",
     "output_type": "stream",
     "text": [
      "chi_square: 12.903225806451612\n",
      "critical_chi_square: 3.841458820694124\n",
      "Reject the null hypothesis: There is a significant association between smoking status and lung cancer diagnosis.\n"
     ]
    }
   ],
   "source": [
    "import scipy.stats as stats\n",
    "\n",
    "#Observed counts\n",
    "observed_yes_smoker =60 \n",
    "observed_no_smoker = 140 \n",
    "observed_yes_non_smoker = 30\n",
    "observed_no_non_smoker = 170 \n",
    "# Calculate row and column totals\n",
    "total_row1 = observed_yes_smoker + observed_no_smoker\n",
    "total_row2 = observed_yes_non_smoker + observed_no_non_smoker\n",
    "total_col1 = observed_yes_smoker + observed_yes_non_smoker\n",
    "total_col2 = observed_no_smoker + observed_no_non_smoker\n",
    "grand_total = total_row1 + total_row2\n",
    "\n",
    "# Calculate expected counts for each cell\n",
    "expected_yes_smoker = (total_row1 * total_col1) / grand_total\n",
    "expected_no_smoker = (total_row1 * total_col2) / grand_total\n",
    "expected_yes_non_smoker = (total_row2 * total_col1) / grand_total\n",
    "expected_no_non_smoker = (total_row2 * total_col2) / grand_total\n",
    "\n",
    "# Calculate the chi-square statistic\n",
    "chi_squared = ((observed_yes_smoker - expected_yes_smoker)**2 / expected_yes_smoker +\n",
    "               (observed_no_smoker - expected_no_smoker)**2 / expected_no_smoker +\n",
    "               (observed_yes_non_smoker - expected_yes_non_smoker)**2 / expected_yes_non_smoker +\n",
    "               (observed_no_non_smoker - expected_no_non_smoker)**2 / expected_no_non_smoker)\n",
    "\n",
    "# Degrees of freedom\n",
    "df = (2 - 1) * (2 - 1)  # For a 2x2 table  ,df = (R-1)* (C-1) where R is the number of rows and C is the number of columns.\n",
    "\n",
    "# Significance level\n",
    "alpha = 0.05\n",
    "\n",
    "# Find the critical chi-square value\n",
    "critical_chi_squared = stats.chi2.ppf(1 - alpha, df)\n",
    "\n",
    "#print the result\n",
    "print(\"chi_square:\",chi_squared)\n",
    "print(\"critical_chi_square:\",critical_chi_squared)\n",
    "\n",
    "# Compare the calculated chi-square statistic to the critical chi-square value\n",
    "if chi_squared > critical_chi_squared:\n",
    "    print(\"Reject the null hypothesis: There is a significant association between smoking status and lung cancer diagnosis.\")\n",
    "else:\n",
    "    print(\"Fail to reject the null hypothesis: There is no significant association between smoking status and lung cancer diagnosis.\")\n"
   ]
  },
  {
   "cell_type": "code",
   "execution_count": null,
   "id": "23be08b7",
   "metadata": {},
   "outputs": [],
   "source": []
  },
  {
   "cell_type": "raw",
   "id": "6cce66dc",
   "metadata": {},
   "source": [
    "Q10. A study was conducted to determine if the proportion of people who prefer milk chocolate, dark\n",
    "chocolate, or white chocolate is different in the U.S. versus the U.K. A random sample of 500 people from\n",
    "the U.S. and a random sample of 500 people from the U.K. were surveyed. The results are shown in the\n",
    "contingency table below. Conduct a chi-square test for independence to determine if there is a significant\n",
    "association between chocolate preference and country of origin."
   ]
  },
  {
   "attachments": {
    "image.png": {
     "image/png": "[encoded data removed]"
    }
   },
   "cell_type": "markdown",
   "id": "8ed48c1c",
   "metadata": {},
   "source": [
    "![image.png](attachment:image.png)"
   ]
  },
  {
   "cell_type": "raw",
   "id": "bc77990d",
   "metadata": {},
   "source": [
    "Null hypothesis(H0):-There is no significant association between chocolate preference and country of origin; they are independent.\n",
    "\n",
    "Alternative Hypothesis:---There is a significant association between chocolate preference and country of origin; they are not independent.\n"
   ]
  },
  {
   "cell_type": "code",
   "execution_count": 48,
   "id": "8ed12795",
   "metadata": {},
   "outputs": [
    {
     "name": "stdout",
     "output_type": "stream",
     "text": [
      "chi_square: 13.393665158371041\n",
      "critical_chi_square: 5.991464547107979\n",
      "Reject the null hypothesis: There is a significant association between chocolate preference and country of origin.\n"
     ]
    }
   ],
   "source": [
    "import scipy.stats as stats\n",
    "\n",
    "# Observed counts\n",
    "observed_milk_us = 200 \n",
    "observed_dark_us = 150 \n",
    "observed_white_us = 150 \n",
    "observed_milk_uk =  225\n",
    "observed_dark_uk = 175\n",
    "observed_white_uk = 100 \n",
    "\n",
    "# Calculate row and column totals\n",
    "total_us = observed_milk_us + observed_dark_us + observed_white_us\n",
    "total_uk = observed_milk_uk + observed_dark_uk + observed_white_uk\n",
    "total_milk = observed_milk_us + observed_milk_uk\n",
    "total_dark = observed_dark_us + observed_dark_uk\n",
    "total_white = observed_white_us + observed_white_uk\n",
    "grand_total = total_us + total_uk\n",
    "\n",
    "# Calculate expected counts for each cell\n",
    "expected_milk_us = (total_us * total_milk) / grand_total\n",
    "expected_dark_us = (total_us * total_dark) / grand_total\n",
    "expected_white_us = (total_us * total_white) / grand_total\n",
    "expected_milk_uk = (total_uk * total_milk) / grand_total\n",
    "expected_dark_uk = (total_uk * total_dark) / grand_total\n",
    "expected_white_uk = (total_uk * total_white) / grand_total\n",
    "\n",
    "# Calculate the chi-square statistic\n",
    "chi_squared = ((observed_milk_us - expected_milk_us)**2 / expected_milk_us +\n",
    "               (observed_dark_us - expected_dark_us)**2 / expected_dark_us +\n",
    "               (observed_white_us - expected_white_us)**2 / expected_white_us +\n",
    "               (observed_milk_uk - expected_milk_uk)**2 / expected_milk_uk +\n",
    "               (observed_dark_uk - expected_dark_uk)**2 / expected_dark_uk +\n",
    "               (observed_white_uk - expected_white_uk)**2 / expected_white_uk)\n",
    "\n",
    "# Degrees of freedom\n",
    "df = (2 - 1) * (3 - 1)  # For a 2x3 table \n",
    "\n",
    "# Significance level\n",
    "alpha = 0.05\n",
    "\n",
    "# Find the critical chi-square value\n",
    "critical_chi_squared = stats.chi2.ppf(1 - alpha, df)\n",
    "\n",
    "\n",
    "print(\"chi_square:\",chi_squared)\n",
    "print(\"critical_chi_square:\",critical_chi_squared)\n",
    "\n",
    "# Compare the calculated chi-square statistic to the critical chi-square value\n",
    "if chi_squared > critical_chi_squared:\n",
    "    print(\"Reject the null hypothesis: There is a significant association between chocolate preference and country of origin.\")\n",
    "else:\n",
    "    print(\"Fail to reject the null hypothesis: There is no significant association between chocolate preference and country of origin.\")\n"
   ]
  },
  {
   "cell_type": "code",
   "execution_count": null,
   "id": "1f324a83",
   "metadata": {},
   "outputs": [],
   "source": []
  },
  {
   "cell_type": "raw",
   "id": "5bdf474e",
   "metadata": {},
   "source": [
    "Q11. A random sample of 30 people was selected from a population with an unknown mean and standard\n",
    "deviation. The sample mean was found to be 72 and the sample standard deviation was found to be 10.\n",
    "Conduct a hypothesis test to determine if the population mean is significantly different from 70. Use a\n",
    "significance level of 0.05."
   ]
  },
  {
   "cell_type": "raw",
   "id": "05a4be28",
   "metadata": {},
   "source": [
    "To conduct a hypothesis test to determine if the population mean is significantly different from 70 using a sample mean of 72 and a sample standard deviation of 10, we can perform a one-sample t-test. Here are the steps:\n"
   ]
  },
  {
   "cell_type": "raw",
   "id": "1f3c2cbb",
   "metadata": {},
   "source": [
    "step1:---\n",
    "    \n",
    "setup the hypotheses\n",
    "\n",
    "Null hypothesis(H0):-The population mean(μ) is equal to  70\n",
    "Alternative Hypothesis (H1):- The population mean(μ) is not equal to 70.\n",
    "    \n",
    "    \n",
    "step2:- specify the significance level alpha = 0.05.\n",
    "    \n",
    "step 3 Calculate the t-statistic\n",
    "\n",
    "step 4: Determine the degree of freedom(df)\n",
    "df = 30-1 = =29\n",
    "\n",
    "step5: Find the critical t-value  from a t-distribution table or calculator for\n",
    "a two-tailed test at the given significance level(alpha/2).since alpha  = 0.05/2 =0.025\n",
    "    \n",
    "step 6:- calculate the p-value associated with the test statistic. We can use a t-distribution calculator or library to find the \n",
    "    p-value.\n",
    "    \n",
    "step7:- compare the t-stats to the critical t-value\n",
    "    \n",
    "If |t| is greater than critical t, then reject th null hypothesis.\n",
    "If |t|is less than equal critical t,then fail the reject the null hypothesis.\n",
    "\n",
    "step8:- Compare the p-value to the significance level(alpha):\n",
    "If p is less than alpha ,then reject the null hypothesis .\n",
    "If p greater than equal alpha,then fail to reject the null hypothesis.\n",
    "    "
   ]
  },
  {
   "cell_type": "code",
   "execution_count": 52,
   "id": "704c266b",
   "metadata": {},
   "outputs": [
    {
     "name": "stdout",
     "output_type": "stream",
     "text": [
      "t_statstic 1.0954451150103321\n",
      "critical_t_value 2.045229642132703\n",
      "p_value: 0.2823362372860698\n",
      "alpha: 0.05\n",
      "Fail to reject the null hypothesis: There is no significant difference in the population mean and 70.\n",
      "Fail to reject the null hypothesis based on the p-value.\n"
     ]
    }
   ],
   "source": [
    "import scipy.stats as stats\n",
    "\n",
    "# Sample information\n",
    "sample_mean = 72\n",
    "sample_std_dev = 10\n",
    "sample_size = 30\n",
    "\n",
    "# Population mean under the null hypothesis\n",
    "population_mean_null = 70\n",
    "\n",
    "# Significance level\n",
    "alpha = 0.05\n",
    "\n",
    "# Calculate the standard error\n",
    "standard_error = sample_std_dev / (sample_size ** 0.5)\n",
    "\n",
    "# Calculate the t-statistic\n",
    "t_statistic = (sample_mean - population_mean_null) / standard_error\n",
    "\n",
    "# Degrees of freedom\n",
    "df = sample_size - 1\n",
    "\n",
    "# Find the critical t-value for a two-tailed test\n",
    "critical_t_value = stats.t.ppf(1 - alpha / 2, df)\n",
    "\n",
    "# Calculate the p-value\n",
    "p_value = 2 * (1 - stats.t.cdf(abs(t_statistic), df))\n",
    "\n",
    "\n",
    "#print the value\n",
    "print(\"t_statstic\",t_statistic)\n",
    "print(\"critical_t_value\",critical_t_value)\n",
    "print(\"p_value:\",p_value)\n",
    "\n",
    "\n",
    "# Compare the test statistic to the critical t-value\n",
    "if abs(t_statistic) > critical_t_value:\n",
    "    print(\"Reject the null hypothesis: The population mean is significantly different from 70.\")\n",
    "else:\n",
    "    print(\"Fail to reject the null hypothesis: There is no significant difference in the population mean and 70.\")\n",
    "\n",
    "# Compare the p-value to the significance level\n",
    "if p_value < alpha:\n",
    "    print(\"Reject the null hypothesis based on the p-value.\")\n",
    "else:\n",
    "    print(\"Fail to reject the null hypothesis based on the p-value.\")"
   ]
  },
  {
   "cell_type": "code",
   "execution_count": null,
   "id": "a108b943",
   "metadata": {},
   "outputs": [],
   "source": []
  }
 ],
 "metadata": {
  "kernelspec": {
   "display_name": "Python 3 (ipykernel)",
   "language": "python",
   "name": "python3"
  },
  "language_info": {
   "codemirror_mode": {
    "name": "ipython",
    "version": 3
   },
   "file_extension": ".py",
   "mimetype": "text/x-python",
   "name": "python",
   "nbconvert_exporter": "python",
   "pygments_lexer": "ipython3",
   "version": "3.9.12"
  }
 },
 "nbformat": 4,
 "nbformat_minor": 5
}
